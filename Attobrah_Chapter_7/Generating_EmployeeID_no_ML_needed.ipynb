{
  "nbformat": 4,
  "nbformat_minor": 0,
  "metadata": {
    "colab": {
      "provenance": []
    },
    "kernelspec": {
      "name": "python3",
      "display_name": "Python 3"
    },
    "language_info": {
      "name": "python"
    }
  },
  "cells": [
    {
      "cell_type": "markdown",
      "source": [
        "Example where machine learning is unnecessary"
      ],
      "metadata": {
        "id": "sMOHHiIH5u9a"
      }
    },
    {
      "cell_type": "code",
      "source": [
        "last_employee_id = 1004"
      ],
      "metadata": {
        "id": "XCZzmVLe0Wh7"
      },
      "execution_count": 1,
      "outputs": []
    },
    {
      "cell_type": "markdown",
      "source": [],
      "metadata": {
        "id": "hoaAVWxm54tj"
      }
    },
    {
      "cell_type": "code",
      "source": [
        "def generate_employee_id(last_id):\n",
        "  return last_id + 1"
      ],
      "metadata": {
        "id": "yQKLRVYx0WP1"
      },
      "execution_count": 2,
      "outputs": []
    },
    {
      "cell_type": "code",
      "source": [
        "new_hire_id = generate_employee_id(last_employee_id)"
      ],
      "metadata": {
        "id": "7wVfpWIn0WNE"
      },
      "execution_count": 3,
      "outputs": []
    },
    {
      "cell_type": "code",
      "source": [
        "new_hire_id"
      ],
      "metadata": {
        "colab": {
          "base_uri": "https://localhost:8080/"
        },
        "id": "6MvN17zS0WKn",
        "outputId": "82b6b471-aa06-435f-bb33-00f5c917dad7"
      },
      "execution_count": 4,
      "outputs": [
        {
          "output_type": "execute_result",
          "data": {
            "text/plain": [
              "1005"
            ]
          },
          "metadata": {},
          "execution_count": 4
        }
      ]
    }
  ]
}